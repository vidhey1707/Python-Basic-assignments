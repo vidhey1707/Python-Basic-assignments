{
 "cells": [
  {
   "cell_type": "code",
   "execution_count": null,
   "id": "31a0b756",
   "metadata": {},
   "outputs": [],
   "source": [
    "1. In the below elements which of them are values or an expression? eg:- values can be\n",
    "integer or string and expressions will be mathematical operators.\n",
    "ANSWERS :\n",
    "*        (Expression - Mathematical operators)\n",
    "-87.8    (Values - Float)\n",
    "-        (Expression - Mathematical operators)  #(can be used as string too in isolation)\n",
    "/        (Expression - Mathematical operators) \n",
    "+        (Expression - Mathematical operators)\n",
    "6        (Values - Integer)"
   ]
  },
  {
   "cell_type": "code",
   "execution_count": null,
   "id": "14a92c6d",
   "metadata": {},
   "outputs": [],
   "source": [
    "2. What is the difference between string and variable?\n",
    "Answers : \n",
    "    String : In Python, string is a data type. It is the sequence of Unicode characters wrapped inside single, double,\n",
    "             or triple quotes\n",
    "    Variable : A variable is a container or memory allocation which stores information or data\n",
    "             #difference is STRING is a type of information or data which is stored in a container called VARIABLE"
   ]
  },
  {
   "cell_type": "code",
   "execution_count": null,
   "id": "09ff5707",
   "metadata": {},
   "outputs": [],
   "source": [
    "3. Describe three different data types.\n",
    "ANSWERS :\n",
    "1. Numbers/Integers - They are zero, positive or negative whole numbers without a decimal part.\n",
    "2. String - string is a data type. It is the sequence of Unicode characters wrapped inside single, double, or triple quotes\n",
    "3. List - List is a collection of data/elements which is ordered and mutable."
   ]
  },
  {
   "cell_type": "code",
   "execution_count": null,
   "id": "0cca506f",
   "metadata": {},
   "outputs": [],
   "source": [
    "4. What is an expression made up of? What do all expressions do?\n",
    "ANSWERS : An expression is a number, variable, or combination of numbers and variables and mathematical operation symbols.\n",
    "          Expressions are used to perform some evaluations on basis of the syntax written with help of numbers,   \n",
    "          variable or operators to give out results or a value."
   ]
  },
  {
   "cell_type": "code",
   "execution_count": null,
   "id": "79672f22",
   "metadata": {},
   "outputs": [],
   "source": [
    "5. This assignment statements, like spam = 10. What is the difference between an\n",
    "expression and a statement?\n",
    "ANSWERS : Expression is something which gives out results or yields a value whereas STATEMENT doesnt evaluate to a value\n",
    "          it does nothing and its a void type, It is a  set of Instructions written to follow something sequentially \n",
    "          eg. of Expression = 2+2, 2*2\n",
    "          eg. of Statement=  IF statements"
   ]
  },
  {
   "cell_type": "code",
   "execution_count": null,
   "id": "9b09e7ba",
   "metadata": {},
   "outputs": [],
   "source": [
    "6. After running the following code, what does the variable bacon contain?\n",
    "bacon = 22\n",
    "bacon + 1\n",
    "ANSWER : The variable bacon contains 22 only because (bacon + 1) is not reassigned to variable bacon."
   ]
  },
  {
   "cell_type": "code",
   "execution_count": null,
   "id": "782deb9b",
   "metadata": {},
   "outputs": [],
   "source": [
    "7. What should the values of the following two terms be?\n",
    "'spam' + 'spamspam'\n",
    "'spam' * 3\n",
    "ANSWERS : 'spam' + 'spamspam' = 'spamspamspam'\n",
    "          'spam' * 3    =   'spamspamspam'\n",
    "        #value of both expression will be same\n",
    "    "
   ]
  },
  {
   "cell_type": "code",
   "execution_count": null,
   "id": "ab1ff377",
   "metadata": {},
   "outputs": [],
   "source": [
    "8. Why is eggs a valid variable name while 100 is invalid?\n",
    "ANSWERS : Variable cant be defined by numerical numbers therefore 100 cant be defined as variable\n",
    "    \"\"\"\"Use of a digit to begin a variable name makes error checking during compilation \n",
    "    or interpertation a lot more complicated\"\"\"\"\"\""
   ]
  },
  {
   "cell_type": "code",
   "execution_count": null,
   "id": "37aed7ec",
   "metadata": {},
   "outputs": [],
   "source": [
    "9. What three functions can be used to get the integer, floating-point number, or string\n",
    "version of a value?\n",
    "ANSWERS : str()\n",
    "          int()\n",
    "          float() "
   ]
  },
  {
   "cell_type": "code",
   "execution_count": null,
   "id": "c3653b67",
   "metadata": {},
   "outputs": [],
   "source": [
    "10. Why does this expression cause an error? How can you fix it?\n",
    "ANSWERS : 'I have eaten ' +  99 + ' burritos.' #Error is that concatenation can be done in str (not \"int\") to str)\n",
    "           to fix this we can typecast 99 as string\n",
    "          'I have eaten ' +  str(99) + ' burritos.'"
   ]
  }
 ],
 "metadata": {
  "kernelspec": {
   "display_name": "Python 3 (ipykernel)",
   "language": "python",
   "name": "python3"
  },
  "language_info": {
   "codemirror_mode": {
    "name": "ipython",
    "version": 3
   },
   "file_extension": ".py",
   "mimetype": "text/x-python",
   "name": "python",
   "nbconvert_exporter": "python",
   "pygments_lexer": "ipython3",
   "version": "3.9.7"
  }
 },
 "nbformat": 4,
 "nbformat_minor": 5
}
