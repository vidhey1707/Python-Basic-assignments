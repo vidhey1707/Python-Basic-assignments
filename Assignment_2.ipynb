{
 "cells": [
  {
   "cell_type": "code",
   "execution_count": null,
   "id": "82984710",
   "metadata": {},
   "outputs": [],
   "source": [
    "1.What are the two values of the Boolean data type? How do you write them?\n",
    "ANSWERS : The two values of boolean data types are True & False. These Values can be written by comparing using comparison\n",
    "          operations, and logic can be formulated with the use of logic operations.\n",
    "          for eg. ==, <, >, !="
   ]
  },
  {
   "cell_type": "code",
   "execution_count": null,
   "id": "eeafc358",
   "metadata": {},
   "outputs": [],
   "source": [
    "2. What are the three different types of Boolean operators?\n",
    "ANSWERS : AND, OR, NOT"
   ]
  },
  {
   "cell_type": "code",
   "execution_count": null,
   "id": "6bb0a1d9",
   "metadata": {},
   "outputs": [],
   "source": [
    "3. Make a list of each Boolean operators truth tables (i.e. every possible combination of Boolean\n",
    "   values for the operator and what it evaluate ).\n",
    "ANSWERS : suppose a & b are two values which return boolean values True or False\n",
    "        AND -  a       b            Output\n",
    "              True     False         False\n",
    "              False    True          False\n",
    "              True     True          True\n",
    "              False    False         False\n",
    "                \n",
    "        OR  -  a       b            Output\n",
    "              True     False         True\n",
    "              False    True          True\n",
    "              True     True          True\n",
    "              False    False         False\n",
    "                \n",
    "        NOT -  a       b             NOT a       NOT b\n",
    "              True     False         False       True\n",
    "              False    True          True        False\n",
    "              True     True          False       False\n",
    "              False    False         True        True"
   ]
  },
  {
   "cell_type": "code",
   "execution_count": null,
   "id": "8ae033d1",
   "metadata": {},
   "outputs": [],
   "source": [
    "4. What are the values of the following expressions?\n",
    "ANSWERS :\n",
    "(5 > 4) and (3 == 5)                 ----->  False\n",
    "\n",
    "not (5 > 4)                          ----->  False   \n",
    "\n",
    "(5 > 4) or (3 == 5)                  ----->  True\n",
    "\n",
    "not ((5 > 4) or (3 == 5))            ----->  False\n",
    "\n",
    "(True and True) and (True == False)  ----->  False\n",
    "\n",
    "(not False) or (not True)            ----->  True"
   ]
  },
  {
   "cell_type": "code",
   "execution_count": null,
   "id": "e79c01f6",
   "metadata": {},
   "outputs": [],
   "source": [
    "5. What are the six comparison operators?\n",
    "ANSWERS : ==, !=, >=, <=, > , <"
   ]
  },
  {
   "cell_type": "code",
   "execution_count": null,
   "id": "7aeb33b6",
   "metadata": {},
   "outputs": [],
   "source": [
    "6. How do you tell the difference between the equal to and assignment operators? Describe a\n",
    "   condition and when you would use one.\n",
    "ANSWERS : Equality operators is == whereas assignment operator is =\n",
    "            '==' is the equality comparison operator and is used to\n",
    "                check whether the two expressions on both sides are equal or not.\n",
    "            Eg.  Checking if 3 == 5 \n",
    "            '=' is the assignment operator and is used to assign the result of \n",
    "               the expression on the right side of the operator to the variable on the left side\n",
    "            Eg.  Assigning variable a = 3"
   ]
  },
  {
   "cell_type": "code",
   "execution_count": null,
   "id": "98ae5f6c",
   "metadata": {},
   "outputs": [],
   "source": [
    "7. Identify the three blocks in this code:\n",
    "spam = 0\n",
    "if spam == 10:\n",
    "print('eggs')           #---------> 1st indentation block\n",
    "if spam > 5:\n",
    "print('bacon')          #---------> 2nd indentation block\n",
    "else:\n",
    "print('ham')            #---------> all 3 print commands below have indentation block\n",
    "print('spam')\n",
    "print('spam')"
   ]
  },
  {
   "cell_type": "code",
   "execution_count": null,
   "id": "2743a7b7",
   "metadata": {},
   "outputs": [],
   "source": [
    "8. Write code that prints Hello if 1 is stored in spam, prints Howdy if 2 is stored in spam, and prints\n",
    "   Greetings! if anything else is stored in spam."
   ]
  },
  {
   "cell_type": "code",
   "execution_count": null,
   "id": "b813e0df",
   "metadata": {},
   "outputs": [],
   "source": [
    "spam = int(input('Enter your number'))\n",
    "if spam == 1:\n",
    "    print('Hello')\n",
    "elif spam == 2:\n",
    "    print('Howdy')\n",
    "else:\n",
    "    print('Greeting!')"
   ]
  },
  {
   "cell_type": "code",
   "execution_count": null,
   "id": "13478c3e",
   "metadata": {},
   "outputs": [],
   "source": [
    "9.If your programme is stuck in an endless loop, what keys you’ll press\n",
    "ANSWERS : We can click interupt key in the jupyter notebook which is right beside run button or Ctrl + C"
   ]
  },
  {
   "cell_type": "code",
   "execution_count": null,
   "id": "57e4f58f",
   "metadata": {},
   "outputs": [],
   "source": [
    "10. How can you tell the difference between break and continue?\n",
    "ANSWERS : break statement stops the loop in which the statement is placed. \n",
    "          continue statement skips a single iteration for the respective condition in a loop\n",
    "        The primary difference is break leads to an immediate exit of the innermost switch or enclosing loop.\n",
    "        On the other hand, the continue statement begins the next iteration of the while, enclosing for, or do loop."
   ]
  },
  {
   "cell_type": "code",
   "execution_count": null,
   "id": "c29c0c80",
   "metadata": {},
   "outputs": [],
   "source": [
    "11. In a for loop, what is the difference between range(10), range(0, 10), and range(0, 10, 1)?\n",
    "ANSWERS : Basically all these 3 range syntax are same theres no difference\n",
    "          range(10)       -----> lower bound is 0 by default upper bound is 10 step size is 1 by default\n",
    "          range(0, 10)    -----> lower bound is 0 & upper bound is 10 step size is 1 by default\n",
    "          range(0, 10, 1) -----> lower bound, upper bound & step size all are mentioned"
   ]
  },
  {
   "cell_type": "code",
   "execution_count": null,
   "id": "ebb0615c",
   "metadata": {},
   "outputs": [],
   "source": [
    "12. Write a short program that prints the numbers 1 to 10 using a for loop. Then write an equivalent\n",
    "program that prints the numbers 1 to 10 using a while loop."
   ]
  },
  {
   "cell_type": "code",
   "execution_count": null,
   "id": "5891f4b5",
   "metadata": {},
   "outputs": [],
   "source": [
    "ANSWERS : FOR LOOP\n",
    "for i in range(1,11):\n",
    "    print(i)"
   ]
  },
  {
   "cell_type": "code",
   "execution_count": null,
   "id": "a166ce5b",
   "metadata": {},
   "outputs": [],
   "source": [
    "ANSWERS : WHILE LOOP\n",
    "a = 1\n",
    "while (a <11):\n",
    "    print(a)\n",
    "    a += 1"
   ]
  },
  {
   "cell_type": "code",
   "execution_count": null,
   "id": "ac45a66c",
   "metadata": {},
   "outputs": [],
   "source": [
    "13. If you had a function named bacon() inside a module named spam, how would you call it after\n",
    "importing spam?\n",
    "ANSWERS : using dot between module name & function name as written below in eg :\n",
    "             spam.bacon()"
   ]
  }
 ],
 "metadata": {
  "kernelspec": {
   "display_name": "Python 3 (ipykernel)",
   "language": "python",
   "name": "python3"
  },
  "language_info": {
   "codemirror_mode": {
    "name": "ipython",
    "version": 3
   },
   "file_extension": ".py",
   "mimetype": "text/x-python",
   "name": "python",
   "nbconvert_exporter": "python",
   "pygments_lexer": "ipython3",
   "version": "3.9.7"
  }
 },
 "nbformat": 4,
 "nbformat_minor": 5
}
